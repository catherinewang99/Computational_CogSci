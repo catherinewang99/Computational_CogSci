{
 "cells": [
  {
   "cell_type": "markdown",
   "metadata": {},
   "source": [
    "# Perceptron"
   ]
  },
  {
   "cell_type": "code",
   "execution_count": 4,
   "metadata": {
    "collapsed": true
   },
   "outputs": [],
   "source": [
    "import os\n",
    "import numpy \n",
    "import numpy as np\n",
    "\n",
    "# Functions that might be useful (please read the documentation)\n",
    "# x.flatten() (take a N-dimensional numpy array and make it one-dimensional)\n",
    "# numpy.random.choice -- choose from the list of images\n",
    "# numpy.dot -- compute the dot product\n",
    "# numpy.random.normal -- set up random initial weights"
   ]
  },
  {
   "cell_type": "code",
   "execution_count": 5,
   "metadata": {
    "collapsed": true
   },
   "outputs": [],
   "source": [
    "import matplotlib.pyplot as plt"
   ]
  },
  {
   "cell_type": "code",
   "execution_count": 6,
   "metadata": {
    "collapsed": true
   },
   "outputs": [],
   "source": [
    "DIM = (28,28) #these are the dimensions of the image\n",
    "\n",
    "def load_image_files(n, path=\"images/\"):\n",
    "    # helper file to help load the images\n",
    "    # returns a list of numpy vectors\n",
    "    images = []\n",
    "    for f in os.listdir(os.path.join(path,str(n))): # read files in the path\n",
    "        p = os.path.join(path,str(n),f)\n",
    "        if os.path.isfile(p):\n",
    "            i = numpy.loadtxt(p)\n",
    "            assert i.shape == DIM # just check the dimensions here\n",
    "            # i is loaded as a matrix, but we are going to flatten it into a single vector\n",
    "            images.append(i.flatten())\n",
    "    return images\n",
    "            \n",
    "\n",
    "# Load up these image files\n",
    "A = load_image_files(0)\n",
    "B = load_image_files(1)\n",
    "\n",
    "N = len(A[0]) # the total size\n",
    "assert N == DIM[0]*DIM[1] # just check our sizes to be sure\n",
    "\n",
    "# set up some random initial weights\n",
    "weights = numpy.random.normal(0,1,size=N)"
   ]
  },
  {
   "cell_type": "markdown",
   "metadata": {},
   "source": [
    "Note that the original images were 28x28 pixels, this function returns “images” of 28x28=784 zeroes and ones, corresponding to whether the image was white or black at a given location, but each “image” is a single vector of length 784 (to make things easier for you)."
   ]
  },
  {
   "cell_type": "markdown",
   "metadata": {},
   "source": [
    "### 1."
   ]
  },
  {
   "cell_type": "markdown",
   "metadata": {},
   "source": [
    "Code and plot are below."
   ]
  },
  {
   "cell_type": "code",
   "execution_count": 44,
   "metadata": {
    "collapsed": true
   },
   "outputs": [],
   "source": [
    "weights = numpy.random.normal(0,1,size=N)"
   ]
  },
  {
   "cell_type": "code",
   "execution_count": 42,
   "metadata": {
    "collapsed": true
   },
   "outputs": [],
   "source": [
    "def final_weight(X):\n",
    "    summ = 0\n",
    "    for pix in range(len(X)):\n",
    "        summ += X[pix] * weights[pix]\n",
    "        \n",
    "    if summ >= 0:\n",
    "        return True\n",
    "    elif summ < 0:\n",
    "        return False"
   ]
  },
  {
   "cell_type": "code",
   "execution_count": 45,
   "metadata": {},
   "outputs": [],
   "source": [
    "toplot = []\n",
    "counter = 0\n",
    "\n",
    "for i in numpy.arange(0, len(A), 25):\n",
    "    counter = 0\n",
    "    \n",
    "    for zeros in A[i: i + 12]:\n",
    "        if final_weight(zeros):\n",
    "            weights -= zeros\n",
    "            counter += 1\n",
    "\n",
    "    for ones in B[i: i + 13]:\n",
    "        if not final_weight(ones):\n",
    "            weights += ones\n",
    "            counter += 1\n",
    "   \n",
    "    \n",
    "\n",
    "    toplot += [(25 - counter)/25]\n",
    "    \n",
    "    \n"
   ]
  },
  {
   "cell_type": "code",
   "execution_count": 46,
   "metadata": {},
   "outputs": [
    {
     "data": {
      "image/png": "[encoded data removed]",
      "text/plain": [
       "<matplotlib.figure.Figure at 0x10dad8f98>"
      ]
     },
     "metadata": {},
     "output_type": "display_data"
    }
   ],
   "source": [
    "plt.plot(toplot)\n",
    "plt.show()"
   ]
  },
  {
   "cell_type": "markdown",
   "metadata": {},
   "source": [
    "### 2."
   ]
  },
  {
   "cell_type": "markdown",
   "metadata": {},
   "source": [
    "Yes, it converges (see question 1). This means that \"0\" and \"1\" are linearly separable, since the simple perceptron algorithm is able to very effectively distinguish between the two numbers on this feature space. "
   ]
  },
  {
   "cell_type": "markdown",
   "metadata": {},
   "source": [
    "### 3. "
   ]
  },
  {
   "cell_type": "markdown",
   "metadata": {},
   "source": [
    "Interpretation: The large negative and large positive values means that it is a common place for 0s and 1s to exist (positives correspond to 1s/negatives to 0). The numbers that fall closer to zero indicate that this data is usually not impactful -- 0s and 1s do not usually fall in this region so these regions do not predict anything about the number. The matrix looks roughly like a 0 in the large negatives and a 1 in the large positives which makes sense, give that these are the most important regions for determining the number identity."
   ]
  },
  {
   "cell_type": "code",
   "execution_count": 188,
   "metadata": {},
   "outputs": [],
   "source": [
    "A_shaped = numpy.reshape(A, (5923, 28, 28))\n",
    "B_shaped = numpy.reshape(B, (6742, 28, 28))\n",
    "weights_shaped = numpy.reshape(weights, (28, 28))\n"
   ]
  },
  {
   "cell_type": "code",
   "execution_count": 47,
   "metadata": {},
   "outputs": [
    {
     "data": {
      "image/png": "[encoded data removed]",
      "text/plain": [
       "<matplotlib.figure.Figure at 0x10e1c0518>"
      ]
     },
     "metadata": {},
     "output_type": "display_data"
    }
   ],
   "source": [
    "plt.imshow(numpy.reshape(weights, DIM))\n",
    "plt.colorbar()\n",
    "plt.show()"
   ]
  },
  {
   "cell_type": "markdown",
   "metadata": {},
   "source": [
    "### 4. "
   ]
  },
  {
   "cell_type": "markdown",
   "metadata": {},
   "source": [
    "I do not expect it to have a great effect on the accuracy of the weights, because the values that are closest to 0 are already non-significant in classifying the 0 and 1. Since the graph below has a sharp drop around 650, we can infer that 650 points are not diagnostic about 0 versus 1, and the remaining 230 are important in discovering if the number is 0 or 1. We know this because once we get to the last 230 points, when they are converted to 0, the accuracy drop by a significant amount."
   ]
  },
  {
   "cell_type": "code",
   "execution_count": 69,
   "metadata": {
    "collapsed": true
   },
   "outputs": [],
   "source": [
    "def final_weight_diff(X, W):\n",
    "    summ = 0\n",
    "    for pix in range(len(X)):\n",
    "        summ += X[pix] * W[pix]\n",
    "        \n",
    "    if summ >= 0:\n",
    "        return True\n",
    "    elif summ < 0:\n",
    "        return False"
   ]
  },
  {
   "cell_type": "code",
   "execution_count": 116,
   "metadata": {
    "collapsed": true
   },
   "outputs": [],
   "source": [
    "def test_1000_accuracy(weights):\n",
    "    count = 0\n",
    "    for zeros in A[:500]:\n",
    "        if not final_weight_diff(zeros, weights):\n",
    "            count += 1\n",
    "    for ones in B[:500]:\n",
    "        if final_weight_diff(ones, weights):\n",
    "            count += 1\n",
    "    return count/1000"
   ]
  },
  {
   "cell_type": "code",
   "execution_count": 153,
   "metadata": {
    "collapsed": true
   },
   "outputs": [],
   "source": [
    "accuracy = []\n",
    "ordered = np.argsort(abs(weights))\n",
    "reduced_weights = weights\n",
    "\n",
    "for x in np.arange(10, 781, 10):\n",
    "    for i in range(len(ordered)):\n",
    "        if ordered[i] < x:\n",
    "            reduced_weights[i] = 0\n",
    "    \n",
    "    accuracy += [test_1000_accuracy(reduced_weights)]\n"
   ]
  },
  {
   "cell_type": "code",
   "execution_count": 155,
   "metadata": {},
   "outputs": [
    {
     "data": {
      "image/png": "[encoded data removed]",
      "text/plain": [
       "<matplotlib.figure.Figure at 0x10254a470>"
      ]
     },
     "metadata": {},
     "output_type": "display_data"
    }
   ],
   "source": [
    "plt.plot(np.arange(10, 781, 10), accuracy)\n",
    "plt.show()"
   ]
  },
  {
   "cell_type": "markdown",
   "metadata": {},
   "source": [
    "### 5. "
   ]
  },
  {
   "cell_type": "markdown",
   "metadata": {},
   "source": [
    "Yes, I guessed that the numbers that are more similar in shape (3 and 8 for example) would be harder to linearly separate because they share many of the same shapes; this is supported by the matrix below because 3 and 8 are more green, whereas 1 and 6 is very yellow, indicating that the accuracy is very close to 1. Furthermore, it makes sense that the pairs of numbers that are the same are 0.5, because these numbers are the same and cannot be separated linearly, so 0.5 is the number at which it plateaus.\n"
   ]
  },
  {
   "cell_type": "code",
   "execution_count": 50,
   "metadata": {
    "collapsed": true
   },
   "outputs": [],
   "source": [
    "TWO = load_image_files(2)\n",
    "THR = load_image_files(3)\n",
    "FOU = load_image_files(4)\n",
    "FIV = load_image_files(5)\n",
    "SIX = load_image_files(6)\n",
    "SEV = load_image_files(7)\n",
    "EIG = load_image_files(8)\n",
    "NIN = load_image_files(9)\n"
   ]
  },
  {
   "cell_type": "code",
   "execution_count": 180,
   "metadata": {
    "collapsed": true
   },
   "outputs": [],
   "source": [
    "def train_data(no1, no2):\n",
    "    weights = numpy.random.normal(0,1,size=N)\n",
    "    counter = 0\n",
    "    length = len(no1) if len(no1) < len(no2) else len(no2)\n",
    "\n",
    "    for i in numpy.arange(0, length, 25):\n",
    "\n",
    "        for zeros in no1[i: i + 12]:\n",
    "            if final_weight_diff(zeros, weights):\n",
    "                weights -= zeros\n",
    "\n",
    "        for ones in no2[i: i + 13]:\n",
    "            if not final_weight_diff(ones, weights):\n",
    "                weights += ones\n",
    "                \n",
    "    for num in no1[:500]:\n",
    "        if not final_weight_diff(num, weights):\n",
    "            counter += 1\n",
    "            \n",
    "    for num in no2[:500]:\n",
    "        if final_weight_diff(num, weights):\n",
    "            counter += 1\n",
    "        \n",
    "    return counter / 1000"
   ]
  },
  {
   "cell_type": "code",
   "execution_count": 181,
   "metadata": {},
   "outputs": [],
   "source": [
    "numbers = [A, B, TWO, THR, FOU, FIV, SIX, SEV, EIG, NIN]"
   ]
  },
  {
   "cell_type": "code",
   "execution_count": 182,
   "metadata": {},
   "outputs": [],
   "source": [
    "tupled_numbs = []"
   ]
  },
  {
   "cell_type": "code",
   "execution_count": 183,
   "metadata": {},
   "outputs": [],
   "source": [
    "for i in range(len(numbers)):\n",
    "    trained_data = []\n",
    "    for j in range(len(numbers)):\n",
    "        trained_data += [train_data(numbers[i], numbers[j])]\n",
    "    tupled_numbs += [trained_data] "
   ]
  },
  {
   "cell_type": "code",
   "execution_count": 187,
   "metadata": {},
   "outputs": [
    {
     "data": {
      "image/png": "[encoded data removed]",
      "text/plain": [
       "<matplotlib.figure.Figure at 0x1121235c0>"
      ]
     },
     "metadata": {},
     "output_type": "display_data"
    }
   ],
   "source": [
    "plt.imshow(tupled_numbs)\n",
    "plt.colorbar()\n",
    "plt.show()"
   ]
  }
 ],
 "metadata": {
  "kernelspec": {
   "display_name": "Python 3",
   "language": "python",
   "name": "python3"
  },
  "language_info": {
   "codemirror_mode": {
    "name": "ipython",
    "version": 3
   },
   "file_extension": ".py",
   "mimetype": "text/x-python",
   "name": "python",
   "nbconvert_exporter": "python",
   "pygments_lexer": "ipython3",
   "version": "3.6.2"
  }
 },
 "nbformat": 4,
 "nbformat_minor": 2
}
